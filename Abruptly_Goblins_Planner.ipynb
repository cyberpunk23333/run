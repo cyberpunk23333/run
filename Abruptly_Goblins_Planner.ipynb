{
  "cells": [
    {
      "cell_type": "markdown",
      "metadata": {
        "id": "view-in-github",
        "colab_type": "text"
      },
      "source": [
        "<a href=\"https://colab.research.google.com/github/cyberpunk23333/run/blob/main/Abruptly_Goblins_Planner.ipynb\" target=\"_parent\"><img src=\"https://colab.research.google.com/assets/colab-badge.svg\" alt=\"Open In Colab\"/></a>"
      ]
    },
    {
      "cell_type": "markdown",
      "metadata": {
        "id": "TJd3YilhHc4d"
      },
      "source": [
        "# Introduction\n",
        "\n",
        "Opening your comic book store, the Sorcery Society, has been a lifelong dream come true. You quickly diversified your shop offerings to include miniatures, plush toys, collectible card games, and board games. Eventually, the store became more a games store with a selection of this week's newest comic books and a small offering of graphic novel paperbacks. Completing your transformation means offering space for local tabletop gamers. They love to play their favorite RPG, \"Abruptly Goblins!\" and will happily pay you per chair to secure the space to do it. Unfortunately, planning the game night has fallen to you. If you pick the wrong night, not enough people will come and the game night will be cancelled. You decide it's best that you automate the game night selector to get the most people through the door. First you need to create a list of people who will be attending the game night.\n",
        "\n",
        "**Instructions**\n",
        "\n",
        "Create an empty list called `gamers`. This will be your list of people who are attending game night."
      ]
    },
    {
      "cell_type": "code",
      "source": [
        "gamers = []"
      ],
      "metadata": {
        "id": "hVzDkOQ0HlY0"
      },
      "execution_count": 1,
      "outputs": []
    },
    {
      "cell_type": "markdown",
      "metadata": {
        "id": "FTs1VWaRHc4f"
      },
      "source": [
        "Now we want to create a function that will update this list and add a new gamer to the this `gamers` list. Each `gamer` should be a dictionary with the following keys:\n",
        " - `\"name\"`: a string that contains the gamer's full or presumed name. E.g., \"Vicky Very\"\n",
        " - `\"availability\"`: a list of strings containing the names of the days of the week that the gamer is available. E.g., [\"Monday\", \"Thursday\", \"Sunday\"]\n",
        "\n",
        "**Instructions**\n",
        "\n",
        "Create a function called `add_gamer` that takes two parameters: `gamer` and `gamers_list`. The function should check that the argument passed to the `gamer` parameter has both `\"name\"` and a `\"availability\"` as keys and if so add `gamer` to `gamers_list`."
      ]
    },
    {
      "cell_type": "code",
      "execution_count": 2,
      "metadata": {
        "id": "JJ9ZkorBHc4g"
      },
      "outputs": [],
      "source": [
        "def add_gamer(gamer,gamers_list):\n",
        "    if gamer.get(\"name\") and gamer.get(\"availability\"):\n",
        "        gamers_list.append(gamer)"
      ]
    },
    {
      "cell_type": "markdown",
      "metadata": {
        "id": "GPmcfTCBHc4g"
      },
      "source": [
        "Next we want to add our first gamer! Her name is Kimberly Warner and she's available on Mondays, Tuesdays, and Fridays.\n",
        "\n",
        "**Instructions**\n",
        "\n",
        "1. Create a dictionary called `kimberly` with the name and availability given above.\n",
        "2. Call `add_gamer` with `kimberly` as the first argument and `gamers` as the second."
      ]
    },
    {
      "cell_type": "code",
      "execution_count": 3,
      "metadata": {
        "id": "HR6VEwRoHc4g"
      },
      "outputs": [],
      "source": [
        "kimberley = {\"name\":\"Kimberly Warner\",\"availability\":[\"Monday\",\"Tuesday\",\"Friday\"]}\n",
        "add_gamer(kimberley,gamers)"
      ]
    },
    {
      "cell_type": "markdown",
      "metadata": {
        "id": "8Ce5HLyAHc4g"
      },
      "source": [
        "Great! Let's add a couple more gamers to the list!"
      ]
    },
    {
      "cell_type": "code",
      "execution_count": 4,
      "metadata": {
        "id": "coxp0JKKHc4g"
      },
      "outputs": [],
      "source": [
        "add_gamer({'name':'Thomas Nelson','availability': [\"Tuesday\", \"Thursday\", \"Saturday\"]}, gamers)\n",
        "add_gamer({'name':'Joyce Sellers','availability': [\"Monday\", \"Wednesday\", \"Friday\", \"Saturday\"]}, gamers)\n",
        "add_gamer({'name':'Michelle Reyes','availability': [\"Wednesday\", \"Thursday\", \"Sunday\"]}, gamers)\n",
        "add_gamer({'name':'Stephen Adams','availability': [\"Thursday\", \"Saturday\"]}, gamers)\n",
        "add_gamer({'name': 'Joanne Lynn', 'availability': [\"Monday\", \"Thursday\"]}, gamers)\n",
        "add_gamer({'name':'Latasha Bryan','availability': [\"Monday\", \"Sunday\"]}, gamers)\n",
        "add_gamer({'name':'Crystal Brewer','availability': [\"Thursday\", \"Friday\", \"Saturday\"]}, gamers)\n",
        "add_gamer({'name':'James Barnes Jr.','availability': [\"Tuesday\", \"Wednesday\", \"Thursday\", \"Sunday\"]}, gamers)\n",
        "add_gamer({'name':'Michel Trujillo','availability': [\"Monday\", \"Tuesday\", \"Wednesday\"]}, gamers)"
      ]
    },
    {
      "cell_type": "markdown",
      "metadata": {
        "id": "_aYNFZA9Hc4h"
      },
      "source": [
        "## Finding the perfect availability\n",
        "\n",
        "Now that we have a list of all of the people interested in game night, we want to be able to calculate which nights would have the most participation. First we need to create a frequency table which correlates each day of the week with gamer availability.\n",
        "\n",
        "**Instructions**\n",
        "\n",
        "Create a function called `build_daily_frequency_table` that takes no argument returns a dictionary with the days of the week as keys and `0`s for values. We'll be using this to count the availability per night. Call `build_daily_frequency_table` and save the results to a variable called `count_availability`."
      ]
    },
    {
      "cell_type": "code",
      "execution_count": 6,
      "metadata": {
        "id": "ib09evFCHc4h"
      },
      "outputs": [],
      "source": [
        "def build_daily_frequency_table():\n",
        "    return {\"Monday\":0,\"Tuesday\":0,\"Wednesday\":0,\"Thursday\":0,\"Friday\":0,\"Saturday\":0,\"Sunday\":0}\n",
        "count_availability = build_daily_frequency_table()"
      ]
    },
    {
      "cell_type": "markdown",
      "metadata": {
        "id": "fHa-MJW7Hc4h"
      },
      "source": [
        "Next we need to count the number of people every night.\n",
        "\n",
        "**Instructions**\n",
        "\n",
        "Write a function called `calculate_availability` that takes a list of gamers as an argument `gamers_list` and a frequency table `available_frequency`. The function should iterate through each gamer in `gamers_list` and iterate through each day in the gamer's availability. For each day in the gamer's availability, add one to that date on the frequency table."
      ]
    },
    {
      "cell_type": "code",
      "execution_count": 24,
      "metadata": {
        "id": "XyDCCnVzHc4h"
      },
      "outputs": [],
      "source": [
        "def calculate_availability(gamers_list, available_frequency):\n",
        "    for gamer in gamers_list:  # Iterate through the list of gamers\n",
        "        for availability in gamer[\"availability\"]:  # Iterate through their availability\n",
        "            available_frequency[availability] += 1\n",
        "    return available_frequency\n",
        ""
      ]
    },
    {
      "cell_type": "markdown",
      "metadata": {
        "id": "zCDddpfEHc4i"
      },
      "source": [
        "Now let's use these tools to find the best night to run Abruptly Goblins!\n",
        "\n",
        "**Instructions**\n",
        "\n",
        "Call `calculate_availability` with `gamers` and `count_availability`. Print out `count_availability` afterwards."
      ]
    },
    {
      "cell_type": "code",
      "execution_count": 25,
      "metadata": {
        "scrolled": true,
        "colab": {
          "base_uri": "https://localhost:8080/"
        },
        "id": "kpvO8Qh8Hc4i",
        "outputId": "cb932ffd-720b-4333-88e1-ea1b65a53d3a"
      },
      "outputs": [
        {
          "output_type": "stream",
          "name": "stdout",
          "text": [
            "{'Monday': 5, 'Tuesday': 4, 'Wednesday': 4, 'Thursday': 6, 'Friday': 3, 'Saturday': 4, 'Sunday': 3}\n"
          ]
        }
      ],
      "source": [
        "calculate_availability(gamers,count_availability)\n",
        "print(count_availability)"
      ]
    },
    {
      "cell_type": "markdown",
      "metadata": {
        "id": "hmgnfmpIHc4i"
      },
      "source": [
        "Lastly we need a way to pick the day with the most available people to attend so that we can schedule game night on that night.\n",
        "\n",
        "**Instructions**\n",
        "\n",
        "Write a function `find_best_night` that takes a dictionary `availability_table` and returns the key with the highest number."
      ]
    },
    {
      "cell_type": "code",
      "execution_count": 26,
      "metadata": {
        "colab": {
          "base_uri": "https://localhost:8080/",
          "height": 35
        },
        "id": "bDrKnYadHc4i",
        "outputId": "fba12ec8-dbb2-4c84-aa36-86a49c326e26"
      },
      "outputs": [
        {
          "output_type": "execute_result",
          "data": {
            "text/plain": [
              "'Thursday'"
            ],
            "application/vnd.google.colaboratory.intrinsic+json": {
              "type": "string"
            }
          },
          "metadata": {},
          "execution_count": 26
        }
      ],
      "source": [
        "find_best_night = lambda availability_table: max(availability_table, key=availability_table.get)\n",
        "find_best_night(count_availability)"
      ]
    },
    {
      "cell_type": "markdown",
      "metadata": {
        "id": "-HQxU4wFHc4i"
      },
      "source": [
        "Now let's find the best day to host game night.\n",
        "\n",
        "**Instructions**\n",
        "\n",
        "Call `find_best_night` with `count_availability`, store the result in a variable called `game_night`.\n",
        "Print out `game_night` to find out which day it is."
      ]
    },
    {
      "cell_type": "code",
      "execution_count": 27,
      "metadata": {
        "id": "Kk1bR0lAHc4i"
      },
      "outputs": [],
      "source": [
        "find_best_night(count_availability)\n",
        "game_night = find_best_night(count_availability)"
      ]
    },
    {
      "cell_type": "markdown",
      "metadata": {
        "id": "eBwDqA3fHc4i"
      },
      "source": [
        "And let's make a list of all of the people who are available that night.\n",
        "\n",
        "**Instructions**\n",
        "\n",
        "* Create a function `available_on_night` that takes two parameters: `gamers_list` and `day` and returns a list of people who are available on that particular day.\n",
        "* Call `available_on_night` with `gamers` and `game_night` and save the result into the variable `attending_game_night`.\n",
        "* Print `attending_game_night`."
      ]
    },
    {
      "cell_type": "code",
      "execution_count": 28,
      "metadata": {
        "id": "-nHt6JOHHc4i"
      },
      "outputs": [],
      "source": [
        "def available_on_night(gamers_list,day):\n",
        "    return [gamer for gamer in gamers_list if day in gamer[\"availability\"]]\n",
        "attending_game_night = available_on_night(gamers,game_night)"
      ]
    },
    {
      "cell_type": "markdown",
      "metadata": {
        "id": "U5bNEAA2Hc4i"
      },
      "source": [
        "## Generating an E-mail for the Participants\n",
        "\n",
        "With the best day for Abruptly Goblins! determined with computer precision, we need to let the attendees know that the game night is on a night they can attend. Let's start by creating a form email to send to each of the participants that we'll fill out with data later.\n",
        "\n",
        "**Instructions**\n",
        "\n",
        "Define a string, called `form_email` with interpolation variables `{name}`, `{day_of_week}`, and `{game}` (in case we decide we want to use this featureset to host a different game night). Use it to tell your gaming attendees the night their Abruptly Goblins! game can be played."
      ]
    },
    {
      "cell_type": "code",
      "execution_count": 29,
      "metadata": {
        "id": "uiyD7kb4Hc4i"
      },
      "outputs": [],
      "source": [
        "# prompt: Define a string, called form_email with interpolation variables {name}, {day_of_week}, and {game} (in case we decide we want to use this featureset to host a different game night). Use it to tell your gaming attendees the night their Abruptly Goblins! game can be played.\n",
        "\n",
        "form_email = \"\"\"\n",
        "Hello {name},\n",
        "\n",
        "We are happy to announce that our next game night for {game} will be on {day_of_week}.\n",
        "\n",
        "Please RSVP if you can make it!\n",
        "\n",
        "See you then,\n",
        "The Sorcery Society\n",
        "\"\"\"\n"
      ]
    },
    {
      "cell_type": "markdown",
      "metadata": {
        "id": "81yVkvtlHc4i"
      },
      "source": [
        "**Instructions**\n",
        "\n",
        "Create a function `send_email` with three parameters: `gamers_who_can_attend`, `day`, and `game`. Print `form_email` for each gamer in `gamers_who_can_attend` with the appropriate `day` and `game`.\n",
        "Call `send_email` with `attending_game_night`, `game_night`, and `\"Abruptly Goblins!\"`."
      ]
    },
    {
      "cell_type": "code",
      "execution_count": 30,
      "metadata": {
        "colab": {
          "base_uri": "https://localhost:8080/"
        },
        "id": "rmBX8QnwHc4i",
        "outputId": "f4d242c2-67f0-49cc-9d17-6ed335a74631"
      },
      "outputs": [
        {
          "output_type": "stream",
          "name": "stdout",
          "text": [
            "\n",
            "Hello Thomas Nelson,\n",
            "\n",
            "We are happy to announce that our next game night for Abruptly Goblins! will be on Thursday.\n",
            "\n",
            "Please RSVP if you can make it!\n",
            "\n",
            "See you then,\n",
            "The Sorcery Society\n",
            "\n",
            "\n",
            "Hello Michelle Reyes,\n",
            "\n",
            "We are happy to announce that our next game night for Abruptly Goblins! will be on Thursday.\n",
            "\n",
            "Please RSVP if you can make it!\n",
            "\n",
            "See you then,\n",
            "The Sorcery Society\n",
            "\n",
            "\n",
            "Hello Stephen Adams,\n",
            "\n",
            "We are happy to announce that our next game night for Abruptly Goblins! will be on Thursday.\n",
            "\n",
            "Please RSVP if you can make it!\n",
            "\n",
            "See you then,\n",
            "The Sorcery Society\n",
            "\n",
            "\n",
            "Hello Joanne Lynn,\n",
            "\n",
            "We are happy to announce that our next game night for Abruptly Goblins! will be on Thursday.\n",
            "\n",
            "Please RSVP if you can make it!\n",
            "\n",
            "See you then,\n",
            "The Sorcery Society\n",
            "\n",
            "\n",
            "Hello Crystal Brewer,\n",
            "\n",
            "We are happy to announce that our next game night for Abruptly Goblins! will be on Thursday.\n",
            "\n",
            "Please RSVP if you can make it!\n",
            "\n",
            "See you then,\n",
            "The Sorcery Society\n",
            "\n",
            "\n",
            "Hello James Barnes Jr.,\n",
            "\n",
            "We are happy to announce that our next game night for Abruptly Goblins! will be on Thursday.\n",
            "\n",
            "Please RSVP if you can make it!\n",
            "\n",
            "See you then,\n",
            "The Sorcery Society\n",
            "\n"
          ]
        }
      ],
      "source": [
        "# prompt: Create a function send_email with three parameters: gamers_who_can_attend, day, and game. Print form_email for each gamer in gamers_who_can_attend with the appropriate day and game. Call send_email with attending_game_night, game_night, and \"Abruptly Goblins!\".\n",
        "\n",
        "def send_email(gamers_who_can_attend, day, game):\n",
        "    for gamer in gamers_who_can_attend:\n",
        "        print(form_email.format(name=gamer[\"name\"], day_of_week=day, game=game))\n",
        "\n",
        "send_email(attending_game_night, game_night, \"Abruptly Goblins!\")\n"
      ]
    },
    {
      "cell_type": "markdown",
      "metadata": {
        "id": "zN3EGS0PHc4i"
      },
      "source": [
        "### Afterward\n",
        "\n",
        "You feel bad for the folks who weren't able to attend on the decided upon game night, and try to use your currently written methods to have a second game night of the week.\n",
        "\n",
        "**Instructions**\n",
        "\n",
        "* Create a list `unable_to_attend_best_night` of everyone in `gamers` that wasn't able to attend game night on `game_night`.\n",
        "* Create `second_night_availability` frequency table by calling `build_daily_frequency_table`.\n",
        "* Call `calculate_availability` with `unable_to_attend_best_night` and `second_night_availability`.\n",
        "* Call `find_best_night` with the now filled-in `second_night_availability`, save the results in `second_night`.\n"
      ]
    },
    {
      "cell_type": "code",
      "execution_count": 31,
      "metadata": {
        "id": "pLyBXGfuHc4j"
      },
      "outputs": [],
      "source": [
        "# prompt: Create a list unable_to_attend_best_night of everyone in gamers that wasn't able to attend game night on game_night.\n",
        "# Create second_night_availability frequency table by calling build_daily_frequency_table.\n",
        "# Call calculate_availability with unable_to_attend_best_night and second_night_availability.\n",
        "# Call find_best_night with the now filled-in second_night_availability, save the results in second_night.\n",
        "\n",
        "unable_to_attend_best_night = [gamer for gamer in gamers if game_night not in gamer[\"availability\"]]\n",
        "second_night_availability = build_daily_frequency_table()\n",
        "calculate_availability(unable_to_attend_best_night, second_night_availability)\n",
        "second_night = find_best_night(second_night_availability)\n"
      ]
    },
    {
      "cell_type": "markdown",
      "metadata": {
        "id": "MDCsYvYYHc4j"
      },
      "source": [
        "Let's send out an email to everyone (whether they can attend the first night or not) whose marked themselves as available on our second game night.\n",
        "\n",
        "**Instructions**\n",
        "\n",
        "* Create the list `available_second_game_night` by calling `available_on_night` with `gamers` and `second_night`\n",
        "* Let the gamers know by calling `send_email` with `available_second_game_night`, `second_night`, and \"Abruptly Goblins!\""
      ]
    },
    {
      "cell_type": "code",
      "execution_count": 32,
      "metadata": {
        "colab": {
          "base_uri": "https://localhost:8080/"
        },
        "id": "bjivt-bcHc4j",
        "outputId": "e1854d7f-cd62-408f-ddf6-053538288963"
      },
      "outputs": [
        {
          "output_type": "stream",
          "name": "stdout",
          "text": [
            "\n",
            "Hello Kimberly Warner,\n",
            "\n",
            "We are happy to announce that our next game night for Abruptly Goblins! will be on Monday.\n",
            "\n",
            "Please RSVP if you can make it!\n",
            "\n",
            "See you then,\n",
            "The Sorcery Society\n",
            "\n",
            "\n",
            "Hello Joyce Sellers,\n",
            "\n",
            "We are happy to announce that our next game night for Abruptly Goblins! will be on Monday.\n",
            "\n",
            "Please RSVP if you can make it!\n",
            "\n",
            "See you then,\n",
            "The Sorcery Society\n",
            "\n",
            "\n",
            "Hello Joanne Lynn,\n",
            "\n",
            "We are happy to announce that our next game night for Abruptly Goblins! will be on Monday.\n",
            "\n",
            "Please RSVP if you can make it!\n",
            "\n",
            "See you then,\n",
            "The Sorcery Society\n",
            "\n",
            "\n",
            "Hello Latasha Bryan,\n",
            "\n",
            "We are happy to announce that our next game night for Abruptly Goblins! will be on Monday.\n",
            "\n",
            "Please RSVP if you can make it!\n",
            "\n",
            "See you then,\n",
            "The Sorcery Society\n",
            "\n",
            "\n",
            "Hello Michel Trujillo,\n",
            "\n",
            "We are happy to announce that our next game night for Abruptly Goblins! will be on Monday.\n",
            "\n",
            "Please RSVP if you can make it!\n",
            "\n",
            "See you then,\n",
            "The Sorcery Society\n",
            "\n"
          ]
        }
      ],
      "source": [
        "# prompt: Create the list available_second_game_night by calling available_on_night with gamers and second_night\n",
        "# Let the gamers know by calling send_email with available_second_game_night, second_night, and \"Abruptly Goblins!\"\n",
        "\n",
        "available_second_game_night = available_on_night(gamers, second_night)\n",
        "send_email(available_second_game_night, second_night, \"Abruptly Goblins!\")\n"
      ]
    }
  ],
  "metadata": {
    "kernelspec": {
      "display_name": "Python 3",
      "language": "python",
      "name": "python3"
    },
    "language_info": {
      "codemirror_mode": {
        "name": "ipython",
        "version": 3
      },
      "file_extension": ".py",
      "mimetype": "text/x-python",
      "name": "python",
      "nbconvert_exporter": "python",
      "pygments_lexer": "ipython3",
      "version": "3.6.4"
    },
    "colab": {
      "provenance": [],
      "include_colab_link": true
    }
  },
  "nbformat": 4,
  "nbformat_minor": 0
}